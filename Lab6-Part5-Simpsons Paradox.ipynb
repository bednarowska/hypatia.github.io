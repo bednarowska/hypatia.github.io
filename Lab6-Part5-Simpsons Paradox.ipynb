{
 "cells": [
  {
   "cell_type": "markdown",
   "metadata": {},
   "source": [
    "# IM939 - Lab 6 Part 5 Simpson's Paradox\n",
    "\n",
    "In the session 6 (week 7) video we discussed the Simpson's Paradox. You can explore some case studies in the **applet** by clicking [here](https://math.usu.edu/~schneit/Statlets/Simpson's%20Paradox/)\n",
    "\n",
    "Here we are going to look at the case study of **\"Expenditure data for developmentally-disabled California residents\"**. This dataset was adjusted (the original dataset you can find [here](www.StatLit.org/XLS/2014-Taylor-Mickel-Paradox-Data.xlsx)) in order to explain the Simpson's Paradox. You can read the research paper  \"Simpson’s Paradox A Data Set and Discrimination Case Study” that uses and explains this dataset [here](http://jse.amstat.org/v22n1/mickel.pdf)\n",
    "There is also a [documentation of the dataset](http://www.amstat.org/publications/jse/v22n1/mickel/paradox_documentation.docx)"
   ]
  },
  {
   "cell_type": "markdown",
   "metadata": {},
   "source": [
    "## 1 Data\n",
    "Here are the key information from the dataset documentation file (every time I use \"\" below it is a cite from the dataset file).\n",
    "### Abstract:\n",
    "\"The State of California Department of Developmental Services (DDS) is responsible for allocating funds that support over 250,000 developmentally-disabled residents (e.g., intellectual disability, cerebral palsy, autism, etc.), called here also consumers. The dataset represents a sample of 1,000 of these consumers. Biographical characteristics and expenditure data (i.e., the dollar amount the State spends on each consumer in supporting these individuals and their families) are included in the data set for each consumer.\n",
    "\n",
    "### Source: \n",
    "The data set originates from DDS’s “Client Master File.” In order to remain in compliance with California State Legislation, the data have been altered to protect the rights and privacy of specific individual consumers.\n",
    "The data set is designed to represent a sample of 1,000 DDS consumers.\n",
    "\n",
    "### Variable Descriptions:\n",
    "A header line contains the name of the variables. There are no missing values. \n",
    "\n",
    "Id: 5-digit, unique identification code for each consumer (similar to a social security number)\n",
    "\n",
    "Age Cohort: Binned age variable represented as six age cohorts (0-5, 6-12, 13-17, 18-21, 22-50, and 51+)\n",
    "\n",
    "Age: Unbinned age variable\n",
    "\n",
    "Gender: Male or Female\n",
    "\n",
    "Expenditures: Dollar amount of annual expenditures spent on each consumer\n",
    "\n",
    "Ethnicity: Eight ethnic groups (American Indian, Asian, Black, Hispanic, Multi-race, Native Hawaiian, Other, and White non-Hispanic).\n",
    "\n",
    "### Research problem\n",
    "The data set and case study are based on a real-life scenario where there was a claim of discrimination based on ethnicity. The exercise highlights the importance of performing rigorous statistical analysis and how data interpretations can accurately inform or misguide decision makers.\" (Taylor, Mickel 2014)"
   ]
  },
  {
   "cell_type": "markdown",
   "metadata": {},
   "source": [
    "## 2 Reading the dataset\n",
    "\n",
    "You should know the Pandas library already from the lab 1 with James. Here we are going to use it to explore the data and for pivot tables. \n",
    "In the folder you downloaded from the Moodle you have a dataset called 'Lab 6 - Paradox Dataset'."
   ]
  },
  {
   "cell_type": "code",
   "execution_count": 3,
   "metadata": {},
   "outputs": [],
   "source": [
    "import pandas as pd\n",
    "df = pd.read_excel('Lab 6 - Paradox Dataset.xlsx')"
   ]
  },
  {
   "cell_type": "markdown",
   "metadata": {},
   "source": [
    "A reminder: anything with a pd. prefix comes from pandas. This is particulary useful for preventing a module from overwriting inbuilt Python functionality."
   ]
  },
  {
   "cell_type": "markdown",
   "metadata": {},
   "source": [
    "Let's have a look at our dataset"
   ]
  },
  {
   "cell_type": "code",
   "execution_count": 4,
   "metadata": {},
   "outputs": [
    {
     "data": {
      "text/html": [
       "<div>\n",
       "<style scoped>\n",
       "    .dataframe tbody tr th:only-of-type {\n",
       "        vertical-align: middle;\n",
       "    }\n",
       "\n",
       "    .dataframe tbody tr th {\n",
       "        vertical-align: top;\n",
       "    }\n",
       "\n",
       "    .dataframe thead th {\n",
       "        text-align: right;\n",
       "    }\n",
       "</style>\n",
       "<table border=\"1\" class=\"dataframe\">\n",
       "  <thead>\n",
       "    <tr style=\"text-align: right;\">\n",
       "      <th></th>\n",
       "      <th>Id</th>\n",
       "      <th>AgeCohort</th>\n",
       "      <th>Age</th>\n",
       "      <th>Gender</th>\n",
       "      <th>Expenditures</th>\n",
       "      <th>Ethnicity</th>\n",
       "    </tr>\n",
       "  </thead>\n",
       "  <tbody>\n",
       "    <tr>\n",
       "      <th>0</th>\n",
       "      <td>10210</td>\n",
       "      <td>13-17</td>\n",
       "      <td>17</td>\n",
       "      <td>Female</td>\n",
       "      <td>2113</td>\n",
       "      <td>White not Hispanic</td>\n",
       "    </tr>\n",
       "    <tr>\n",
       "      <th>1</th>\n",
       "      <td>10409</td>\n",
       "      <td>22-50</td>\n",
       "      <td>37</td>\n",
       "      <td>Male</td>\n",
       "      <td>41924</td>\n",
       "      <td>White not Hispanic</td>\n",
       "    </tr>\n",
       "    <tr>\n",
       "      <th>2</th>\n",
       "      <td>10486</td>\n",
       "      <td>0-5</td>\n",
       "      <td>3</td>\n",
       "      <td>Male</td>\n",
       "      <td>1454</td>\n",
       "      <td>Hispanic</td>\n",
       "    </tr>\n",
       "    <tr>\n",
       "      <th>3</th>\n",
       "      <td>10538</td>\n",
       "      <td>18-21</td>\n",
       "      <td>19</td>\n",
       "      <td>Female</td>\n",
       "      <td>6400</td>\n",
       "      <td>Hispanic</td>\n",
       "    </tr>\n",
       "    <tr>\n",
       "      <th>4</th>\n",
       "      <td>10568</td>\n",
       "      <td>13-17</td>\n",
       "      <td>13</td>\n",
       "      <td>Male</td>\n",
       "      <td>4412</td>\n",
       "      <td>White not Hispanic</td>\n",
       "    </tr>\n",
       "    <tr>\n",
       "      <th>...</th>\n",
       "      <td>...</td>\n",
       "      <td>...</td>\n",
       "      <td>...</td>\n",
       "      <td>...</td>\n",
       "      <td>...</td>\n",
       "      <td>...</td>\n",
       "    </tr>\n",
       "    <tr>\n",
       "      <th>995</th>\n",
       "      <td>99622</td>\n",
       "      <td>51+</td>\n",
       "      <td>86</td>\n",
       "      <td>Female</td>\n",
       "      <td>57055</td>\n",
       "      <td>White not Hispanic</td>\n",
       "    </tr>\n",
       "    <tr>\n",
       "      <th>996</th>\n",
       "      <td>99715</td>\n",
       "      <td>18-21</td>\n",
       "      <td>20</td>\n",
       "      <td>Male</td>\n",
       "      <td>7494</td>\n",
       "      <td>Hispanic</td>\n",
       "    </tr>\n",
       "    <tr>\n",
       "      <th>997</th>\n",
       "      <td>99718</td>\n",
       "      <td>13-17</td>\n",
       "      <td>17</td>\n",
       "      <td>Female</td>\n",
       "      <td>3673</td>\n",
       "      <td>Multi Race</td>\n",
       "    </tr>\n",
       "    <tr>\n",
       "      <th>998</th>\n",
       "      <td>99791</td>\n",
       "      <td>6-12</td>\n",
       "      <td>10</td>\n",
       "      <td>Male</td>\n",
       "      <td>3638</td>\n",
       "      <td>Hispanic</td>\n",
       "    </tr>\n",
       "    <tr>\n",
       "      <th>999</th>\n",
       "      <td>99898</td>\n",
       "      <td>22-50</td>\n",
       "      <td>23</td>\n",
       "      <td>Male</td>\n",
       "      <td>26702</td>\n",
       "      <td>White not Hispanic</td>\n",
       "    </tr>\n",
       "  </tbody>\n",
       "</table>\n",
       "<p>1000 rows × 6 columns</p>\n",
       "</div>"
      ],
      "text/plain": [
       "        Id AgeCohort  Age  Gender  Expenditures           Ethnicity\n",
       "0    10210     13-17   17  Female          2113  White not Hispanic\n",
       "1    10409     22-50   37    Male         41924  White not Hispanic\n",
       "2    10486       0-5    3    Male          1454            Hispanic\n",
       "3    10538     18-21   19  Female          6400            Hispanic\n",
       "4    10568     13-17   13    Male          4412  White not Hispanic\n",
       "..     ...       ...  ...     ...           ...                 ...\n",
       "995  99622       51+   86  Female         57055  White not Hispanic\n",
       "996  99715     18-21   20    Male          7494            Hispanic\n",
       "997  99718     13-17   17  Female          3673          Multi Race\n",
       "998  99791      6-12   10    Male          3638            Hispanic\n",
       "999  99898     22-50   23    Male         26702  White not Hispanic\n",
       "\n",
       "[1000 rows x 6 columns]"
      ]
     },
     "execution_count": 4,
     "metadata": {},
     "output_type": "execute_result"
    }
   ],
   "source": [
    "df"
   ]
  },
  {
   "cell_type": "markdown",
   "metadata": {},
   "source": [
    "We have 6 columns (variables) in 1000 rows. Let's see what type of object is our dataset and what types of objects are in the dataset."
   ]
  },
  {
   "cell_type": "code",
   "execution_count": 5,
   "metadata": {},
   "outputs": [
    {
     "data": {
      "text/plain": [
       "pandas.core.frame.DataFrame"
      ]
     },
     "execution_count": 5,
     "metadata": {},
     "output_type": "execute_result"
    }
   ],
   "source": [
    "type(df)"
   ]
  },
  {
   "cell_type": "markdown",
   "metadata": {},
   "source": [
    "## 3 Exploring data\n",
    "### Missing values\n",
    "Let's check if we have any missing data"
   ]
  },
  {
   "cell_type": "code",
   "execution_count": 6,
   "metadata": {},
   "outputs": [
    {
     "name": "stdout",
     "output_type": "stream",
     "text": [
      "<class 'pandas.core.frame.DataFrame'>\n",
      "RangeIndex: 1000 entries, 0 to 999\n",
      "Data columns (total 6 columns):\n",
      " #   Column        Non-Null Count  Dtype \n",
      "---  ------        --------------  ----- \n",
      " 0   Id            1000 non-null   int64 \n",
      " 1   AgeCohort     1000 non-null   object\n",
      " 2   Age           1000 non-null   int64 \n",
      " 3   Gender        1000 non-null   object\n",
      " 4   Expenditures  1000 non-null   int64 \n",
      " 5   Ethnicity     1000 non-null   object\n",
      "dtypes: int64(3), object(3)\n",
      "memory usage: 47.0+ KB\n"
     ]
    }
   ],
   "source": [
    "df.info()"
   ]
  },
  {
   "cell_type": "markdown",
   "metadata": {},
   "source": [
    "The above tables shows that we have 1000 observations for each of 6 columns. \n",
    "\n",
    "Let's see if there are any unexpected values."
   ]
  },
  {
   "cell_type": "code",
   "execution_count": 7,
   "metadata": {},
   "outputs": [
    {
     "data": {
      "text/plain": [
       "array(['0-5', '13-17', '18-21', '22-50', '51+', '6-12'], dtype=object)"
      ]
     },
     "execution_count": 7,
     "metadata": {},
     "output_type": "execute_result"
    }
   ],
   "source": [
    "import numpy as np\n",
    "np.unique(df.AgeCohort)"
   ]
  },
  {
   "cell_type": "code",
   "execution_count": 6,
   "metadata": {},
   "outputs": [
    {
     "data": {
      "text/plain": [
       "array([ 0,  1,  2,  3,  4,  5,  6,  7,  8,  9, 10, 11, 12, 13, 14, 15, 16,\n",
       "       17, 18, 19, 20, 21, 22, 23, 24, 25, 26, 27, 28, 29, 30, 31, 32, 33,\n",
       "       34, 35, 36, 37, 38, 39, 40, 41, 42, 44, 45, 46, 48, 51, 52, 53, 54,\n",
       "       55, 56, 57, 59, 60, 62, 63, 64, 65, 66, 67, 68, 69, 70, 71, 72, 73,\n",
       "       74, 75, 76, 77, 78, 79, 80, 81, 82, 83, 85, 86, 88, 89, 90, 91, 94,\n",
       "       95], dtype=int64)"
      ]
     },
     "execution_count": 6,
     "metadata": {},
     "output_type": "execute_result"
    }
   ],
   "source": [
    "np.unique(df.Age)"
   ]
  },
  {
   "cell_type": "code",
   "execution_count": 7,
   "metadata": {},
   "outputs": [
    {
     "data": {
      "text/plain": [
       "array(['Female', 'Male'], dtype=object)"
      ]
     },
     "execution_count": 7,
     "metadata": {},
     "output_type": "execute_result"
    }
   ],
   "source": [
    "np.unique(df.Gender)"
   ]
  },
  {
   "cell_type": "code",
   "execution_count": 11,
   "metadata": {},
   "outputs": [
    {
     "data": {
      "text/plain": [
       "array(['American Indian', 'Asian', 'Black', 'Hispanic', 'Multi Race',\n",
       "       'Native Hawaiian', 'Other', 'White not Hispanic'], dtype=object)"
      ]
     },
     "execution_count": 11,
     "metadata": {},
     "output_type": "execute_result"
    }
   ],
   "source": [
    "np.unique(df.Ethnicity)"
   ]
  },
  {
   "cell_type": "markdown",
   "metadata": {},
   "source": [
    "There aren't any unexpected values in neither of these 4 variables. We didn't run this command for Expenditures on purpose, as this would return us too many values. An easier way to check this variable would be just a boxplot."
   ]
  },
  {
   "cell_type": "code",
   "execution_count": 8,
   "metadata": {},
   "outputs": [
    {
     "data": {
      "text/plain": [
       "<matplotlib.axes._subplots.AxesSubplot at 0x8f49670>"
      ]
     },
     "execution_count": 8,
     "metadata": {},
     "output_type": "execute_result"
    },
    {
     "data": {
      "image/png": "[encoded data removed]",
      "text/plain": [
       "<Figure size 432x288 with 1 Axes>"
      ]
     },
     "metadata": {
      "needs_background": "light"
     },
     "output_type": "display_data"
    }
   ],
   "source": [
    "df.boxplot(column=['Age'])"
   ]
  },
  {
   "cell_type": "code",
   "execution_count": 9,
   "metadata": {},
   "outputs": [
    {
     "data": {
      "text/plain": [
       "<matplotlib.axes._subplots.AxesSubplot at 0x96b6820>"
      ]
     },
     "execution_count": 9,
     "metadata": {},
     "output_type": "execute_result"
    },
    {
     "data": {
      "image/png": "[encoded data removed]",
      "text/plain": [
       "<Figure size 432x288 with 1 Axes>"
      ]
     },
     "metadata": {
      "needs_background": "light"
     },
     "output_type": "display_data"
    }
   ],
   "source": [
    "df.boxplot(column=['Expenditures'])"
   ]
  },
  {
   "cell_type": "markdown",
   "metadata": {},
   "source": [
    "Let's see a summary of data types we have here.\n",
    "\n",
    "### Data types"
   ]
  },
  {
   "cell_type": "code",
   "execution_count": 10,
   "metadata": {},
   "outputs": [
    {
     "data": {
      "text/plain": [
       "Id               int64\n",
       "AgeCohort       object\n",
       "Age              int64\n",
       "Gender          object\n",
       "Expenditures     int64\n",
       "Ethnicity       object\n",
       "dtype: object"
      ]
     },
     "execution_count": 10,
     "metadata": {},
     "output_type": "execute_result"
    }
   ],
   "source": [
    "df.dtypes"
   ]
  },
  {
   "cell_type": "markdown",
   "metadata": {},
   "source": [
    "We are creating a new categorical column cat_AgeCohort that would make our work a bit easier later. You can read more [here](https://pandas.pydata.org/pandas-docs/version/0.23.4/generated/pandas.Categorical.html)"
   ]
  },
  {
   "cell_type": "code",
   "execution_count": 11,
   "metadata": {},
   "outputs": [],
   "source": [
    "df['cat_AgeCohort'] = pd.Categorical(df['AgeCohort'], \n",
    "                                     ordered=True, \n",
    "                                     categories=['0-5', '6-12', '13-17', '18-21', '22-50', '51 +'])"
   ]
  },
  {
   "cell_type": "markdown",
   "metadata": {},
   "source": [
    "Here int64 mean 'a 64-bit integer' and 'object' are strings. This gives you also a hint they are different types of variables. The 'bit' refers to how long and precise the number is. Pandas uses data types from numpy ([pandas documentation](https://pandas.pydata.org/pandas-docs/stable/user_guide/basics.html#basics-dtypes), [numpy documentation](https://numpy.org/doc/stable/user/basics.types.html?highlight=array%20interface)). \n",
    "In our dataset three variables are numeric: Id, age are ordinal variables, Expenditures is a scale variable. AgeCohort is categorical and Gender and Ethnicity are nominal.  \n",
    "For that reason 'data.describe' will bring us a summary of numeric variables only."
   ]
  },
  {
   "cell_type": "code",
   "execution_count": 14,
   "metadata": {},
   "outputs": [
    {
     "data": {
      "text/html": [
       "<div>\n",
       "<style scoped>\n",
       "    .dataframe tbody tr th:only-of-type {\n",
       "        vertical-align: middle;\n",
       "    }\n",
       "\n",
       "    .dataframe tbody tr th {\n",
       "        vertical-align: top;\n",
       "    }\n",
       "\n",
       "    .dataframe thead th {\n",
       "        text-align: right;\n",
       "    }\n",
       "</style>\n",
       "<table border=\"1\" class=\"dataframe\">\n",
       "  <thead>\n",
       "    <tr style=\"text-align: right;\">\n",
       "      <th></th>\n",
       "      <th>Id</th>\n",
       "      <th>Age</th>\n",
       "      <th>Expenditures</th>\n",
       "    </tr>\n",
       "  </thead>\n",
       "  <tbody>\n",
       "    <tr>\n",
       "      <th>count</th>\n",
       "      <td>1000.000000</td>\n",
       "      <td>1000.000000</td>\n",
       "      <td>1000.000000</td>\n",
       "    </tr>\n",
       "    <tr>\n",
       "      <th>mean</th>\n",
       "      <td>54662.846000</td>\n",
       "      <td>22.800000</td>\n",
       "      <td>18065.786000</td>\n",
       "    </tr>\n",
       "    <tr>\n",
       "      <th>std</th>\n",
       "      <td>25643.673401</td>\n",
       "      <td>18.462038</td>\n",
       "      <td>19542.830884</td>\n",
       "    </tr>\n",
       "    <tr>\n",
       "      <th>min</th>\n",
       "      <td>10210.000000</td>\n",
       "      <td>0.000000</td>\n",
       "      <td>222.000000</td>\n",
       "    </tr>\n",
       "    <tr>\n",
       "      <th>25%</th>\n",
       "      <td>31808.750000</td>\n",
       "      <td>12.000000</td>\n",
       "      <td>2898.750000</td>\n",
       "    </tr>\n",
       "    <tr>\n",
       "      <th>50%</th>\n",
       "      <td>55384.500000</td>\n",
       "      <td>18.000000</td>\n",
       "      <td>7026.000000</td>\n",
       "    </tr>\n",
       "    <tr>\n",
       "      <th>75%</th>\n",
       "      <td>76134.750000</td>\n",
       "      <td>26.000000</td>\n",
       "      <td>37712.750000</td>\n",
       "    </tr>\n",
       "    <tr>\n",
       "      <th>max</th>\n",
       "      <td>99898.000000</td>\n",
       "      <td>95.000000</td>\n",
       "      <td>75098.000000</td>\n",
       "    </tr>\n",
       "  </tbody>\n",
       "</table>\n",
       "</div>"
      ],
      "text/plain": [
       "                 Id          Age  Expenditures\n",
       "count   1000.000000  1000.000000   1000.000000\n",
       "mean   54662.846000    22.800000  18065.786000\n",
       "std    25643.673401    18.462038  19542.830884\n",
       "min    10210.000000     0.000000    222.000000\n",
       "25%    31808.750000    12.000000   2898.750000\n",
       "50%    55384.500000    18.000000   7026.000000\n",
       "75%    76134.750000    26.000000  37712.750000\n",
       "max    99898.000000    95.000000  75098.000000"
      ]
     },
     "execution_count": 14,
     "metadata": {},
     "output_type": "execute_result"
    }
   ],
   "source": [
    "df.describe()"
   ]
  },
  {
   "cell_type": "markdown",
   "metadata": {},
   "source": [
    "It doesn't make sense to plot not numeric variables or ids. That's why we are going to just plot age and expenditures."
   ]
  },
  {
   "cell_type": "code",
   "execution_count": 13,
   "metadata": {},
   "outputs": [
    {
     "data": {
      "text/plain": [
       "<matplotlib.axes._subplots.AxesSubplot at 0x96fe310>"
      ]
     },
     "execution_count": 13,
     "metadata": {},
     "output_type": "execute_result"
    },
    {
     "data": {
      "image/png": "[encoded data removed]",
      "text/plain": [
       "<Figure size 432x288 with 1 Axes>"
      ]
     },
     "metadata": {
      "needs_background": "light"
     },
     "output_type": "display_data"
    }
   ],
   "source": [
    "df.plot(x = 'Age', y = 'Expenditures', kind='scatter')"
   ]
  },
  {
   "cell_type": "markdown",
   "metadata": {},
   "source": [
    "The pattern of data is very interesting, expecially around x-values of ca. 25. The research paper can bring us more clarification.\n",
    "\n",
    "### Age\n",
    "The crucial factor in this case study is age: \"As consumers get older, their financial needs increase as they move out of their parent’s home, etc. Therefore, it is expected that expenditures for older consumers will be higher than for the younger consumers\" \n",
    "\n",
    "In the dataset we have two age variables that both refer to the same information - age of consumers. They are saved as two distinct data types: binned 'AgeCohort' and unbinned 'Age'. \n",
    "\n",
    "**Age categories** If you look at the binned one you will notice that the categories are somewhat interesting: "
   ]
  },
  {
   "cell_type": "code",
   "execution_count": 19,
   "metadata": {},
   "outputs": [
    {
     "data": {
      "text/plain": [
       "<matplotlib.axes._subplots.AxesSubplot at 0x7ffeb0afba30>"
      ]
     },
     "execution_count": 19,
     "metadata": {},
     "output_type": "execute_result"
    },
    {
     "data": {
      "image/png": "[encoded data removed]",
      "text/plain": [
       "<Figure size 432x288 with 1 Axes>"
      ]
     },
     "metadata": {
      "needs_background": "light"
     },
     "output_type": "display_data"
    }
   ],
   "source": [
    "df[['Age']].plot(kind='hist', ec='black')"
   ]
  },
  {
   "cell_type": "code",
   "execution_count": 20,
   "metadata": {},
   "outputs": [
    {
     "data": {
      "text/plain": [
       "count       812\n",
       "unique        4\n",
       "top       22-50\n",
       "freq        226\n",
       "Name: cat_AgeCohort, dtype: object"
      ]
     },
     "execution_count": 20,
     "metadata": {},
     "output_type": "execute_result"
    }
   ],
   "source": [
    "df[\"AgeCohort\"].describe() #we will receive the output for the categorical variable \"AgeCohort\"\n",
    "df['cat_AgeCohort'].describe()"
   ]
  },
  {
   "cell_type": "markdown",
   "metadata": {},
   "source": [
    "Here we will run a bar plot of age categories."
   ]
  },
  {
   "cell_type": "code",
   "execution_count": 24,
   "metadata": {},
   "outputs": [
    {
     "data": {
      "text/plain": [
       "<matplotlib.axes._subplots.AxesSubplot at 0x7ffeb24814f0>"
      ]
     },
     "execution_count": 24,
     "metadata": {},
     "output_type": "execute_result"
    },
    {
     "data": {
      "image/png": "[encoded data removed]",
      "text/plain": [
       "<Figure size 432x288 with 1 Axes>"
      ]
     },
     "metadata": {
      "needs_background": "light"
     },
     "output_type": "display_data"
    }
   ],
   "source": [
    "df['cat_AgeCohort'].value_counts().plot(kind=\"bar\")"
   ]
  },
  {
   "cell_type": "markdown",
   "metadata": {},
   "source": [
    "The default order of plot elements is 'value count'. For the age variable it might be more useful to look at the order chronologically."
   ]
  },
  {
   "cell_type": "code",
   "execution_count": 27,
   "metadata": {},
   "outputs": [
    {
     "data": {
      "text/plain": [
       "<matplotlib.axes._subplots.AxesSubplot at 0x7ffeb25ea640>"
      ]
     },
     "execution_count": 27,
     "metadata": {},
     "output_type": "execute_result"
    },
    {
     "data": {
      "image/png": "[encoded data removed]",
      "text/plain": [
       "<Figure size 432x288 with 1 Axes>"
      ]
     },
     "metadata": {
      "needs_background": "light"
     },
     "output_type": "display_data"
    }
   ],
   "source": [
    "#using sns.countplot from seaborn we will plot AgeCohort\n",
    "#the order in plotting this variable is really crucial, we want to have sorted by age categories\n",
    "import seaborn as sns\n",
    "import matplotlib.pyplot as plt\n",
    "\n",
    "#here is without sorting / ordering\n",
    "#sns.countplot(x=\"AgeCohort\", data=df)\n",
    "\n",
    "#here we plot the variable with sorting\n",
    "sns.countplot(x=\"cat_AgeCohort\", data=df)\n",
    "\n",
    "#You can try playing with the commands below too:\n",
    "#sns.countplot(x=\"AgeCohort\", data=df, order=df['AgeCohort'].value_counts().index)\n",
    "#sns.countplot(x=\"AgeCohort\", data=df, order=['0-5', '6-12', '13-17', '18-21', '22-50','51+'])"
   ]
  },
  {
   "cell_type": "markdown",
   "metadata": {},
   "source": [
    "Why would the data be binned in such \"uneven\" categories like '0-5 years', '6-12' and '22-50'? Instead of even categories e.g. '0-10', '11-20', '21-30' etc. or every 5 years '0-5', '6-10' etc.?\n",
    "\n",
    "Here the age cohorts **were allocated based on the theory**, rather than based on data (this way we would have even number of people in each category) or based on logical age categories, e.g. every 5 or 10 years.\n",
    "\n",
    "The authors explain: \"The cohorts are established based on the amount of financial support typically required during a particular life phase (...) The 0-5 cohort (preschool age) has the fewest needs and requires the least amount of funding (...) Those in the 51+ cohort have the most needs and require the most amount of funding\". You can read in more details in the paper. \n",
    "\n",
    "## 4 Exploratory analysis \n",
    "\n",
    "\n",
    "The research question is: *are any demographics discriminated in distributions of the funds?*\n",
    "\n",
    "Following the authors:\n",
    "\"Discrimination exists in this case study if the amount of expenditures for a typical person in a group of consumers that share a common attribute (e.g., gender, ethnicity, etc.) is significantly different when compared to a typical person in another group. For example, discrimination based on gender would occur if the expenditures for a typical female are less than the amount for a typical male.\"\n",
    "\n",
    "We are going to examine the data using plots for categorical data and pivot tables (cross-tables) with means.\n",
    "\"Pivot table reports are particularly useful in narrowing down larger data sets or analyzing relationships between data points.\" Pivot tables will help you understand what is Simpson's Paradox. \n",
    "\n",
    "### Age x expenditures\n",
    "Let's see how expenditures are distributed across age groups.\n",
    "\n",
    "We are going to use a *swarm plot* which I believe works well here to notice the paradox and \"the points are adjusted (only along the categorical axis) so that they don’t overlap. This gives a better representation of the distribution of values, but it does not scale well to large numbers of observations. A swarm plot can be drawn on its own, but it is also a good complement to a box or violin plot in cases where you want to show all observations along with some representation of the underlying distribution.\" Read more [here](https://seaborn.pydata.org/generated/seaborn.swarmplot.html#seaborn.swarmplot)"
   ]
  },
  {
   "cell_type": "code",
   "execution_count": 28,
   "metadata": {},
   "outputs": [
    {
     "data": {
      "text/plain": [
       "<seaborn.axisgrid.FacetGrid at 0x7ffeb26b75e0>"
      ]
     },
     "execution_count": 28,
     "metadata": {},
     "output_type": "execute_result"
    },
    {
     "data": {
      "image/png": "[encoded data removed]",
      "text/plain": [
       "<Figure size 360x360 with 1 Axes>"
      ]
     },
     "metadata": {
      "needs_background": "light"
     },
     "output_type": "display_data"
    }
   ],
   "source": [
    "import seaborn as sns\n",
    "import matplotlib.pyplot as plt\n",
    "\n",
    "sns.catplot(x=\"AgeCohort\", y=\"Expenditures\", kind=\"swarm\", data=df)\n",
    "#you can also do a boxplot if you change kind=\"box\""
   ]
  },
  {
   "cell_type": "markdown",
   "metadata": {},
   "source": [
    "### Ethnicity\n",
    "Ethnicity could be another discriminating factor. Let's check this here too by plotting expenditures by ethnicity.\n",
    "\n",
    "These groups reflect the demographic profile of the State of California."
   ]
  },
  {
   "cell_type": "code",
   "execution_count": 29,
   "metadata": {},
   "outputs": [
    {
     "data": {
      "text/plain": [
       "<seaborn.axisgrid.FacetGrid at 0x7ffeb277cc70>"
      ]
     },
     "execution_count": 29,
     "metadata": {},
     "output_type": "execute_result"
    },
    {
     "data": {
      "image/png": "[encoded data removed]",
      "text/plain": [
       "<Figure size 360x360 with 1 Axes>"
      ]
     },
     "metadata": {
      "needs_background": "light"
     },
     "output_type": "display_data"
    }
   ],
   "source": [
    "sns.catplot(x=\"Ethnicity\", y=\"Expenditures\", kind=\"swarm\", data=df)"
   ]
  },
  {
   "cell_type": "markdown",
   "metadata": {},
   "source": [
    "### Gender\n",
    "Gender could have been another discriminating factor (as gender based discrimination is also very common). It is not the case here. See below plots to confirm these. We are plotting expenditures by gender."
   ]
  },
  {
   "cell_type": "code",
   "execution_count": 257,
   "metadata": {},
   "outputs": [
    {
     "data": {
      "text/plain": [
       "<matplotlib.axes._subplots.AxesSubplot at 0x23ea8430>"
      ]
     },
     "execution_count": 257,
     "metadata": {},
     "output_type": "execute_result"
    },
    {
     "data": {
      "image/png": "[encoded data removed]",
      "text/plain": [
       "<Figure size 360x360 with 1 Axes>"
      ]
     },
     "metadata": {
      "needs_background": "light"
     },
     "output_type": "display_data"
    }
   ],
   "source": [
    "import seaborn as sns\n",
    "import matplotlib.pyplot as plt\n",
    "\n",
    "#sns.catplot(x=\"Gender\", y=\"Expenditures\", kind=\"swarm\", data=df)\n",
    "#you can create even a nicer plot than for ethnicity, using tips here https://seaborn.pydata.org/tutorial/categorical.html\n",
    "#It's a combination of swarmplot and violin plot to show each observation along with a summary of the distribution\n",
    "\n",
    "g = sns.catplot(x=\"Gender\", y=\"Expenditures\", kind=\"violin\", inner=None, data=df)\n",
    "sns.swarmplot(x=\"Gender\", y=\"Expenditures\", color=\"k\", size=3, data=df, ax=g.ax)"
   ]
  },
  {
   "cell_type": "markdown",
   "metadata": {},
   "source": [
    "### Mean Expenditures \n",
    "This was a quick visual analysis. Let's check means to see how it looks like by age, ethnicity and gender.\n",
    "Why would it be also good to check medians here?"
   ]
  },
  {
   "cell_type": "code",
   "execution_count": 30,
   "metadata": {},
   "outputs": [
    {
     "data": {
      "text/html": [
       "<div>\n",
       "<style scoped>\n",
       "    .dataframe tbody tr th:only-of-type {\n",
       "        vertical-align: middle;\n",
       "    }\n",
       "\n",
       "    .dataframe tbody tr th {\n",
       "        vertical-align: top;\n",
       "    }\n",
       "\n",
       "    .dataframe thead th {\n",
       "        text-align: right;\n",
       "    }\n",
       "</style>\n",
       "<table border=\"1\" class=\"dataframe\">\n",
       "  <thead>\n",
       "    <tr style=\"text-align: right;\">\n",
       "      <th></th>\n",
       "      <th>Expenditures</th>\n",
       "    </tr>\n",
       "    <tr>\n",
       "      <th>Ethnicity</th>\n",
       "      <th></th>\n",
       "    </tr>\n",
       "  </thead>\n",
       "  <tbody>\n",
       "    <tr>\n",
       "      <th>American Indian</th>\n",
       "      <td>36438.25</td>\n",
       "    </tr>\n",
       "    <tr>\n",
       "      <th>Asian</th>\n",
       "      <td>18392.37</td>\n",
       "    </tr>\n",
       "    <tr>\n",
       "      <th>Black</th>\n",
       "      <td>20884.59</td>\n",
       "    </tr>\n",
       "    <tr>\n",
       "      <th>Hispanic</th>\n",
       "      <td>11065.57</td>\n",
       "    </tr>\n",
       "    <tr>\n",
       "      <th>Multi Race</th>\n",
       "      <td>4456.73</td>\n",
       "    </tr>\n",
       "    <tr>\n",
       "      <th>Native Hawaiian</th>\n",
       "      <td>42782.33</td>\n",
       "    </tr>\n",
       "    <tr>\n",
       "      <th>Other</th>\n",
       "      <td>3316.50</td>\n",
       "    </tr>\n",
       "    <tr>\n",
       "      <th>White not Hispanic</th>\n",
       "      <td>24697.55</td>\n",
       "    </tr>\n",
       "  </tbody>\n",
       "</table>\n",
       "</div>"
      ],
      "text/plain": [
       "                    Expenditures\n",
       "Ethnicity                       \n",
       "American Indian         36438.25\n",
       "Asian                   18392.37\n",
       "Black                   20884.59\n",
       "Hispanic                11065.57\n",
       "Multi Race               4456.73\n",
       "Native Hawaiian         42782.33\n",
       "Other                    3316.50\n",
       "White not Hispanic      24697.55"
      ]
     },
     "execution_count": 30,
     "metadata": {},
     "output_type": "execute_result"
    }
   ],
   "source": [
    "import pandas as pd\n",
    "import numpy as np\n",
    "\n",
    "#By default the aggreggate function is mean\n",
    "\n",
    "np.round(df.pivot_table(index=['Ethnicity'], values=['Expenditures']), 2)"
   ]
  },
  {
   "cell_type": "code",
   "execution_count": 31,
   "metadata": {},
   "outputs": [
    {
     "data": {
      "text/html": [
       "<div>\n",
       "<style scoped>\n",
       "    .dataframe tbody tr th:only-of-type {\n",
       "        vertical-align: middle;\n",
       "    }\n",
       "\n",
       "    .dataframe tbody tr th {\n",
       "        vertical-align: top;\n",
       "    }\n",
       "\n",
       "    .dataframe thead th {\n",
       "        text-align: right;\n",
       "    }\n",
       "</style>\n",
       "<table border=\"1\" class=\"dataframe\">\n",
       "  <thead>\n",
       "    <tr style=\"text-align: right;\">\n",
       "      <th></th>\n",
       "      <th>Expenditures</th>\n",
       "    </tr>\n",
       "    <tr>\n",
       "      <th>Gender</th>\n",
       "      <th></th>\n",
       "    </tr>\n",
       "  </thead>\n",
       "  <tbody>\n",
       "    <tr>\n",
       "      <th>Female</th>\n",
       "      <td>18129.61</td>\n",
       "    </tr>\n",
       "    <tr>\n",
       "      <th>Male</th>\n",
       "      <td>18001.20</td>\n",
       "    </tr>\n",
       "  </tbody>\n",
       "</table>\n",
       "</div>"
      ],
      "text/plain": [
       "        Expenditures\n",
       "Gender              \n",
       "Female      18129.61\n",
       "Male        18001.20"
      ]
     },
     "execution_count": 31,
     "metadata": {},
     "output_type": "execute_result"
    }
   ],
   "source": [
    "np.round(df.pivot_table(index=['Gender'], values=['Expenditures']), 2)"
   ]
  },
  {
   "cell_type": "code",
   "execution_count": 32,
   "metadata": {},
   "outputs": [
    {
     "data": {
      "text/html": [
       "<div>\n",
       "<style scoped>\n",
       "    .dataframe tbody tr th:only-of-type {\n",
       "        vertical-align: middle;\n",
       "    }\n",
       "\n",
       "    .dataframe tbody tr th {\n",
       "        vertical-align: top;\n",
       "    }\n",
       "\n",
       "    .dataframe thead th {\n",
       "        text-align: right;\n",
       "    }\n",
       "</style>\n",
       "<table border=\"1\" class=\"dataframe\">\n",
       "  <thead>\n",
       "    <tr style=\"text-align: right;\">\n",
       "      <th></th>\n",
       "      <th>Expenditures</th>\n",
       "    </tr>\n",
       "    <tr>\n",
       "      <th>cat_AgeCohort</th>\n",
       "      <th></th>\n",
       "    </tr>\n",
       "  </thead>\n",
       "  <tbody>\n",
       "    <tr>\n",
       "      <th>0-5</th>\n",
       "      <td>1415.28</td>\n",
       "    </tr>\n",
       "    <tr>\n",
       "      <th>6-12</th>\n",
       "      <td>2226.86</td>\n",
       "    </tr>\n",
       "    <tr>\n",
       "      <th>13-17</th>\n",
       "      <td>3922.61</td>\n",
       "    </tr>\n",
       "    <tr>\n",
       "      <th>18-21</th>\n",
       "      <td>9888.54</td>\n",
       "    </tr>\n",
       "    <tr>\n",
       "      <th>22-50</th>\n",
       "      <td>40209.28</td>\n",
       "    </tr>\n",
       "    <tr>\n",
       "      <th>51 +</th>\n",
       "      <td>53521.90</td>\n",
       "    </tr>\n",
       "  </tbody>\n",
       "</table>\n",
       "</div>"
      ],
      "text/plain": [
       "               Expenditures\n",
       "cat_AgeCohort              \n",
       " 0-5                1415.28\n",
       "6-12                2226.86\n",
       "13-17               3922.61\n",
       "18-21               9888.54\n",
       "22-50              40209.28\n",
       " 51 +              53521.90"
      ]
     },
     "execution_count": 32,
     "metadata": {},
     "output_type": "execute_result"
    }
   ],
   "source": [
    "np.round(df.pivot_table(index=['cat_AgeCohort'], values=['Expenditures']), 2)"
   ]
  },
  {
   "cell_type": "markdown",
   "metadata": {},
   "source": [
    "What do these tables tell us? There is much discrepnacy in average results for ethnicity and age cohort. If we look at gender - there aren't many differences.\n",
    "\n",
    "Please remember that in this case study \"the needs for consumers increase as they become older which results in higher expenditures\". This would explain age discrepancies a bit, but what about ethnicity?"
   ]
  },
  {
   "cell_type": "markdown",
   "metadata": {},
   "source": [
    "# 5 In-depth Analysis - Outliers\n",
    "Let's try to go a bit more in-depth .\n",
    "We know that gender doesn't show many differences. In age there are not big differences except for one case. Let's focus on ethnicity then. \n",
    "\n",
    "*We are going to use Seaborn's 'catplot'. In the [documentation](https://seaborn.pydata.org/tutorial/categorical.html) we can read what are the error bars here: \"In seaborn, the barplot() function operates on a full dataset and applies a function to obtain the estimate (taking the mean by default). When there are multiple observations in each category, it also uses bootstrapping to compute a confidence interval around the estimate, which is plotted using error bars.\"*"
   ]
  },
  {
   "cell_type": "code",
   "execution_count": 33,
   "metadata": {},
   "outputs": [
    {
     "data": {
      "text/plain": [
       "<seaborn.axisgrid.FacetGrid at 0x7ffeb278a700>"
      ]
     },
     "execution_count": 33,
     "metadata": {},
     "output_type": "execute_result"
    },
    {
     "data": {
      "image/png": "[encoded data removed]",
      "text/plain": [
       "<Figure size 360x360 with 1 Axes>"
      ]
     },
     "metadata": {
      "needs_background": "light"
     },
     "output_type": "display_data"
    }
   ],
   "source": [
    "sns.catplot(x=\"Ethnicity\", y='Expenditures', \n",
    "            kind=\"bar\", data=df)\n",
    "\n",
    "#you can also run a nested table, but the chart might be more straightforward in analysis.\n",
    "#np.round(df.pivot_table(index=['cat_AgeCohort','Ethnicity'], values=['Expenditures']), 2)"
   ]
  },
  {
   "cell_type": "code",
   "execution_count": 34,
   "metadata": {},
   "outputs": [
    {
     "data": {
      "text/html": [
       "<div>\n",
       "<style scoped>\n",
       "    .dataframe tbody tr th:only-of-type {\n",
       "        vertical-align: middle;\n",
       "    }\n",
       "\n",
       "    .dataframe tbody tr th {\n",
       "        vertical-align: top;\n",
       "    }\n",
       "\n",
       "    .dataframe thead th {\n",
       "        text-align: right;\n",
       "    }\n",
       "</style>\n",
       "<table border=\"1\" class=\"dataframe\">\n",
       "  <thead>\n",
       "    <tr style=\"text-align: right;\">\n",
       "      <th></th>\n",
       "      <th>Expenditures</th>\n",
       "    </tr>\n",
       "    <tr>\n",
       "      <th>Ethnicity</th>\n",
       "      <th></th>\n",
       "    </tr>\n",
       "  </thead>\n",
       "  <tbody>\n",
       "    <tr>\n",
       "      <th>American Indian</th>\n",
       "      <td>36438.25</td>\n",
       "    </tr>\n",
       "    <tr>\n",
       "      <th>Asian</th>\n",
       "      <td>18392.37</td>\n",
       "    </tr>\n",
       "    <tr>\n",
       "      <th>Black</th>\n",
       "      <td>20884.59</td>\n",
       "    </tr>\n",
       "    <tr>\n",
       "      <th>Hispanic</th>\n",
       "      <td>11065.57</td>\n",
       "    </tr>\n",
       "    <tr>\n",
       "      <th>Multi Race</th>\n",
       "      <td>4456.73</td>\n",
       "    </tr>\n",
       "    <tr>\n",
       "      <th>Native Hawaiian</th>\n",
       "      <td>42782.33</td>\n",
       "    </tr>\n",
       "    <tr>\n",
       "      <th>Other</th>\n",
       "      <td>3316.50</td>\n",
       "    </tr>\n",
       "    <tr>\n",
       "      <th>White not Hispanic</th>\n",
       "      <td>24697.55</td>\n",
       "    </tr>\n",
       "  </tbody>\n",
       "</table>\n",
       "</div>"
      ],
      "text/plain": [
       "                    Expenditures\n",
       "Ethnicity                       \n",
       "American Indian         36438.25\n",
       "Asian                   18392.37\n",
       "Black                   20884.59\n",
       "Hispanic                11065.57\n",
       "Multi Race               4456.73\n",
       "Native Hawaiian         42782.33\n",
       "Other                    3316.50\n",
       "White not Hispanic      24697.55"
      ]
     },
     "execution_count": 34,
     "metadata": {},
     "output_type": "execute_result"
    }
   ],
   "source": [
    "np.round(df.pivot_table(index=['Ethnicity'], values=['Expenditures']), 2)"
   ]
  },
  {
   "cell_type": "markdown",
   "metadata": {},
   "source": [
    "So there are big differences in the averages between ethnicities. Does it mean there is discrimination? "
   ]
  },
  {
   "cell_type": "code",
   "execution_count": 36,
   "metadata": {},
   "outputs": [
    {
     "data": {
      "text/html": [
       "<div>\n",
       "<style scoped>\n",
       "    .dataframe tbody tr th:only-of-type {\n",
       "        vertical-align: middle;\n",
       "    }\n",
       "\n",
       "    .dataframe tbody tr th {\n",
       "        vertical-align: top;\n",
       "    }\n",
       "\n",
       "    .dataframe thead th {\n",
       "        text-align: right;\n",
       "    }\n",
       "</style>\n",
       "<table border=\"1\" class=\"dataframe\">\n",
       "  <thead>\n",
       "    <tr style=\"text-align: right;\">\n",
       "      <th></th>\n",
       "      <th>Id</th>\n",
       "      <th>AgeCohort</th>\n",
       "      <th>Age</th>\n",
       "      <th>Gender</th>\n",
       "      <th>Expenditures</th>\n",
       "      <th>cat_AgeCohort</th>\n",
       "    </tr>\n",
       "    <tr>\n",
       "      <th>Ethnicity</th>\n",
       "      <th></th>\n",
       "      <th></th>\n",
       "      <th></th>\n",
       "      <th></th>\n",
       "      <th></th>\n",
       "      <th></th>\n",
       "    </tr>\n",
       "  </thead>\n",
       "  <tbody>\n",
       "    <tr>\n",
       "      <th>American Indian</th>\n",
       "      <td>4</td>\n",
       "      <td>4</td>\n",
       "      <td>4</td>\n",
       "      <td>4</td>\n",
       "      <td>4</td>\n",
       "      <td>4</td>\n",
       "    </tr>\n",
       "    <tr>\n",
       "      <th>Asian</th>\n",
       "      <td>129</td>\n",
       "      <td>129</td>\n",
       "      <td>129</td>\n",
       "      <td>129</td>\n",
       "      <td>129</td>\n",
       "      <td>129</td>\n",
       "    </tr>\n",
       "    <tr>\n",
       "      <th>Black</th>\n",
       "      <td>59</td>\n",
       "      <td>59</td>\n",
       "      <td>59</td>\n",
       "      <td>59</td>\n",
       "      <td>59</td>\n",
       "      <td>59</td>\n",
       "    </tr>\n",
       "    <tr>\n",
       "      <th>Hispanic</th>\n",
       "      <td>376</td>\n",
       "      <td>376</td>\n",
       "      <td>376</td>\n",
       "      <td>376</td>\n",
       "      <td>376</td>\n",
       "      <td>376</td>\n",
       "    </tr>\n",
       "    <tr>\n",
       "      <th>Multi Race</th>\n",
       "      <td>26</td>\n",
       "      <td>26</td>\n",
       "      <td>26</td>\n",
       "      <td>26</td>\n",
       "      <td>26</td>\n",
       "      <td>26</td>\n",
       "    </tr>\n",
       "    <tr>\n",
       "      <th>Native Hawaiian</th>\n",
       "      <td>3</td>\n",
       "      <td>3</td>\n",
       "      <td>3</td>\n",
       "      <td>3</td>\n",
       "      <td>3</td>\n",
       "      <td>3</td>\n",
       "    </tr>\n",
       "    <tr>\n",
       "      <th>Other</th>\n",
       "      <td>2</td>\n",
       "      <td>2</td>\n",
       "      <td>2</td>\n",
       "      <td>2</td>\n",
       "      <td>2</td>\n",
       "      <td>2</td>\n",
       "    </tr>\n",
       "    <tr>\n",
       "      <th>White not Hispanic</th>\n",
       "      <td>401</td>\n",
       "      <td>401</td>\n",
       "      <td>401</td>\n",
       "      <td>401</td>\n",
       "      <td>401</td>\n",
       "      <td>401</td>\n",
       "    </tr>\n",
       "  </tbody>\n",
       "</table>\n",
       "</div>"
      ],
      "text/plain": [
       "                     Id  AgeCohort  Age  Gender  Expenditures  cat_AgeCohort\n",
       "Ethnicity                                                                   \n",
       "American Indian       4          4    4       4             4              4\n",
       "Asian               129        129  129     129           129            129\n",
       "Black                59         59   59      59            59             59\n",
       "Hispanic            376        376  376     376           376            376\n",
       "Multi Race           26         26   26      26            26             26\n",
       "Native Hawaiian       3          3    3       3             3              3\n",
       "Other                 2          2    2       2             2              2\n",
       "White not Hispanic  401        401  401     401           401            401"
      ]
     },
     "execution_count": 36,
     "metadata": {},
     "output_type": "execute_result"
    }
   ],
   "source": [
    "df.groupby('Ethnicity').count()"
   ]
  },
  {
   "cell_type": "markdown",
   "metadata": {},
   "source": [
    "As you can see there are big sample size differences between ethnic groups. \n",
    "\n",
    "*What conclusions does it bring?*\n",
    "There are 3 major ethnicities within the dataset: White non-Hispanic (40%), Hispanic (38%), Asian (13%). The sample sizes of other ethnicites are very small. \n",
    "\n",
    "Please also remember that \n",
    "1). \n",
    "We know it is representative data of the population of residents. So based on this data we can use inferential statistics (look up Week 03 slides if you need a reminder) and estimate results for the whole population of beneficiaries of California DDS. \n",
    "\n",
    "\n",
    "2).\n",
    "Also, if you look into actual demographics of California State [here](https://en.wikipedia.org/wiki/Demographics_of_California#/media/File:Ethic_California_Organized_Pie.png)\n",
    "\n",
    "You will notce that the proportions of the state are similar to proportions of this case study. Hispanic and White non-Hispanic constitute a majority of California's population.\n",
    "\n",
    "Let's focus on the top 2 biggest groups. We can see there is a difference in the average expenditures between the White non-Hispanic and Hispanic groups."
   ]
  },
  {
   "cell_type": "code",
   "execution_count": 37,
   "metadata": {},
   "outputs": [
    {
     "data": {
      "text/html": [
       "<div>\n",
       "<style scoped>\n",
       "    .dataframe tbody tr th:only-of-type {\n",
       "        vertical-align: middle;\n",
       "    }\n",
       "\n",
       "    .dataframe tbody tr th {\n",
       "        vertical-align: top;\n",
       "    }\n",
       "\n",
       "    .dataframe thead th {\n",
       "        text-align: right;\n",
       "    }\n",
       "</style>\n",
       "<table border=\"1\" class=\"dataframe\">\n",
       "  <thead>\n",
       "    <tr style=\"text-align: right;\">\n",
       "      <th></th>\n",
       "      <th>Id</th>\n",
       "      <th>AgeCohort</th>\n",
       "      <th>Age</th>\n",
       "      <th>Gender</th>\n",
       "      <th>Expenditures</th>\n",
       "      <th>Ethnicity</th>\n",
       "      <th>cat_AgeCohort</th>\n",
       "    </tr>\n",
       "  </thead>\n",
       "  <tbody>\n",
       "    <tr>\n",
       "      <th>0</th>\n",
       "      <td>10210</td>\n",
       "      <td>13-17</td>\n",
       "      <td>17</td>\n",
       "      <td>Female</td>\n",
       "      <td>2113</td>\n",
       "      <td>White not Hispanic</td>\n",
       "      <td>13-17</td>\n",
       "    </tr>\n",
       "    <tr>\n",
       "      <th>1</th>\n",
       "      <td>10409</td>\n",
       "      <td>22-50</td>\n",
       "      <td>37</td>\n",
       "      <td>Male</td>\n",
       "      <td>41924</td>\n",
       "      <td>White not Hispanic</td>\n",
       "      <td>22-50</td>\n",
       "    </tr>\n",
       "    <tr>\n",
       "      <th>2</th>\n",
       "      <td>10486</td>\n",
       "      <td>0-5</td>\n",
       "      <td>3</td>\n",
       "      <td>Male</td>\n",
       "      <td>1454</td>\n",
       "      <td>Hispanic</td>\n",
       "      <td>0-5</td>\n",
       "    </tr>\n",
       "    <tr>\n",
       "      <th>3</th>\n",
       "      <td>10538</td>\n",
       "      <td>18-21</td>\n",
       "      <td>19</td>\n",
       "      <td>Female</td>\n",
       "      <td>6400</td>\n",
       "      <td>Hispanic</td>\n",
       "      <td>18-21</td>\n",
       "    </tr>\n",
       "    <tr>\n",
       "      <th>4</th>\n",
       "      <td>10568</td>\n",
       "      <td>13-17</td>\n",
       "      <td>13</td>\n",
       "      <td>Male</td>\n",
       "      <td>4412</td>\n",
       "      <td>White not Hispanic</td>\n",
       "      <td>13-17</td>\n",
       "    </tr>\n",
       "    <tr>\n",
       "      <th>...</th>\n",
       "      <td>...</td>\n",
       "      <td>...</td>\n",
       "      <td>...</td>\n",
       "      <td>...</td>\n",
       "      <td>...</td>\n",
       "      <td>...</td>\n",
       "      <td>...</td>\n",
       "    </tr>\n",
       "    <tr>\n",
       "      <th>992</th>\n",
       "      <td>99114</td>\n",
       "      <td>18-21</td>\n",
       "      <td>18</td>\n",
       "      <td>Male</td>\n",
       "      <td>5298</td>\n",
       "      <td>Hispanic</td>\n",
       "      <td>18-21</td>\n",
       "    </tr>\n",
       "    <tr>\n",
       "      <th>995</th>\n",
       "      <td>99622</td>\n",
       "      <td>51 +</td>\n",
       "      <td>86</td>\n",
       "      <td>Female</td>\n",
       "      <td>57055</td>\n",
       "      <td>White not Hispanic</td>\n",
       "      <td>51 +</td>\n",
       "    </tr>\n",
       "    <tr>\n",
       "      <th>996</th>\n",
       "      <td>99715</td>\n",
       "      <td>18-21</td>\n",
       "      <td>20</td>\n",
       "      <td>Male</td>\n",
       "      <td>7494</td>\n",
       "      <td>Hispanic</td>\n",
       "      <td>18-21</td>\n",
       "    </tr>\n",
       "    <tr>\n",
       "      <th>998</th>\n",
       "      <td>99791</td>\n",
       "      <td>6-12</td>\n",
       "      <td>10</td>\n",
       "      <td>Male</td>\n",
       "      <td>3638</td>\n",
       "      <td>Hispanic</td>\n",
       "      <td>6-12</td>\n",
       "    </tr>\n",
       "    <tr>\n",
       "      <th>999</th>\n",
       "      <td>99898</td>\n",
       "      <td>22-50</td>\n",
       "      <td>23</td>\n",
       "      <td>Male</td>\n",
       "      <td>26702</td>\n",
       "      <td>White not Hispanic</td>\n",
       "      <td>22-50</td>\n",
       "    </tr>\n",
       "  </tbody>\n",
       "</table>\n",
       "<p>777 rows × 7 columns</p>\n",
       "</div>"
      ],
      "text/plain": [
       "        Id AgeCohort  Age  Gender  Expenditures           Ethnicity  \\\n",
       "0    10210     13-17   17  Female          2113  White not Hispanic   \n",
       "1    10409     22-50   37    Male         41924  White not Hispanic   \n",
       "2    10486       0-5    3    Male          1454            Hispanic   \n",
       "3    10538     18-21   19  Female          6400            Hispanic   \n",
       "4    10568     13-17   13    Male          4412  White not Hispanic   \n",
       "..     ...       ...  ...     ...           ...                 ...   \n",
       "992  99114     18-21   18    Male          5298            Hispanic   \n",
       "995  99622      51 +   86  Female         57055  White not Hispanic   \n",
       "996  99715     18-21   20    Male          7494            Hispanic   \n",
       "998  99791      6-12   10    Male          3638            Hispanic   \n",
       "999  99898     22-50   23    Male         26702  White not Hispanic   \n",
       "\n",
       "    cat_AgeCohort  \n",
       "0           13-17  \n",
       "1           22-50  \n",
       "2             0-5  \n",
       "3           18-21  \n",
       "4           13-17  \n",
       "..            ...  \n",
       "992         18-21  \n",
       "995          51 +  \n",
       "996         18-21  \n",
       "998          6-12  \n",
       "999         22-50  \n",
       "\n",
       "[777 rows x 7 columns]"
      ]
     },
     "execution_count": 37,
     "metadata": {},
     "output_type": "execute_result"
    }
   ],
   "source": [
    "##selecting cases that are either 'Hispanic' or 'White non Hispanic' \n",
    "Hispanic = df[(df[\"Ethnicity\"] == 'Hispanic') | (df[\"Ethnicity\"] == 'White not Hispanic')]\n",
    "Hispanic"
   ]
  },
  {
   "cell_type": "code",
   "execution_count": 38,
   "metadata": {},
   "outputs": [
    {
     "data": {
      "text/html": [
       "<div>\n",
       "<style scoped>\n",
       "    .dataframe tbody tr th:only-of-type {\n",
       "        vertical-align: middle;\n",
       "    }\n",
       "\n",
       "    .dataframe tbody tr th {\n",
       "        vertical-align: top;\n",
       "    }\n",
       "\n",
       "    .dataframe thead th {\n",
       "        text-align: right;\n",
       "    }\n",
       "</style>\n",
       "<table border=\"1\" class=\"dataframe\">\n",
       "  <thead>\n",
       "    <tr style=\"text-align: right;\">\n",
       "      <th></th>\n",
       "      <th></th>\n",
       "      <th>Expenditures</th>\n",
       "    </tr>\n",
       "    <tr>\n",
       "      <th>Ethnicity</th>\n",
       "      <th>cat_AgeCohort</th>\n",
       "      <th></th>\n",
       "    </tr>\n",
       "  </thead>\n",
       "  <tbody>\n",
       "    <tr>\n",
       "      <th rowspan=\"6\" valign=\"top\">Hispanic</th>\n",
       "      <th>0-5</th>\n",
       "      <td>1393.20</td>\n",
       "    </tr>\n",
       "    <tr>\n",
       "      <th>6-12</th>\n",
       "      <td>2312.19</td>\n",
       "    </tr>\n",
       "    <tr>\n",
       "      <th>13-17</th>\n",
       "      <td>3955.28</td>\n",
       "    </tr>\n",
       "    <tr>\n",
       "      <th>18-21</th>\n",
       "      <td>9959.85</td>\n",
       "    </tr>\n",
       "    <tr>\n",
       "      <th>22-50</th>\n",
       "      <td>40924.12</td>\n",
       "    </tr>\n",
       "    <tr>\n",
       "      <th>51 +</th>\n",
       "      <td>55585.00</td>\n",
       "    </tr>\n",
       "    <tr>\n",
       "      <th rowspan=\"6\" valign=\"top\">White not Hispanic</th>\n",
       "      <th>0-5</th>\n",
       "      <td>1366.90</td>\n",
       "    </tr>\n",
       "    <tr>\n",
       "      <th>6-12</th>\n",
       "      <td>2052.26</td>\n",
       "    </tr>\n",
       "    <tr>\n",
       "      <th>13-17</th>\n",
       "      <td>3904.36</td>\n",
       "    </tr>\n",
       "    <tr>\n",
       "      <th>18-21</th>\n",
       "      <td>10133.06</td>\n",
       "    </tr>\n",
       "    <tr>\n",
       "      <th>22-50</th>\n",
       "      <td>40187.62</td>\n",
       "    </tr>\n",
       "    <tr>\n",
       "      <th>51 +</th>\n",
       "      <td>52670.42</td>\n",
       "    </tr>\n",
       "  </tbody>\n",
       "</table>\n",
       "</div>"
      ],
      "text/plain": [
       "                                  Expenditures\n",
       "Ethnicity          cat_AgeCohort              \n",
       "Hispanic            0-5                1393.20\n",
       "                   6-12                2312.19\n",
       "                   13-17               3955.28\n",
       "                   18-21               9959.85\n",
       "                   22-50              40924.12\n",
       "                    51 +              55585.00\n",
       "White not Hispanic  0-5                1366.90\n",
       "                   6-12                2052.26\n",
       "                   13-17               3904.36\n",
       "                   18-21              10133.06\n",
       "                   22-50              40187.62\n",
       "                    51 +              52670.42"
      ]
     },
     "execution_count": 38,
     "metadata": {},
     "output_type": "execute_result"
    }
   ],
   "source": [
    "np.round(Hispanic.pivot_table(index=['Ethnicity', 'cat_AgeCohort'], values=['Expenditures']), 2)"
   ]
  },
  {
   "cell_type": "code",
   "execution_count": 39,
   "metadata": {},
   "outputs": [
    {
     "data": {
      "text/plain": [
       "<seaborn.axisgrid.FacetGrid at 0x7ffeb2a8dcd0>"
      ]
     },
     "execution_count": 39,
     "metadata": {},
     "output_type": "execute_result"
    },
    {
     "data": {
      "image/png": "[encoded data removed]",
      "text/plain": [
       "<Figure size 490.375x360 with 1 Axes>"
      ]
     },
     "metadata": {
      "needs_background": "light"
     },
     "output_type": "display_data"
    }
   ],
   "source": [
    "sns.catplot(x=\"cat_AgeCohort\", y='Expenditures', hue=\"Ethnicity\", kind=\"bar\", data=Hispanic)"
   ]
  },
  {
   "cell_type": "markdown",
   "metadata": {},
   "source": [
    "Let's get back to our original question : does discrimination exist in this case? \n",
    "\n",
    "“Is the typical Hispanic consumer receiving fewer funds (i.e., expenditures) than the typical White non-Hispanic consumer? If a Hispanic consumer was to file for discrimination based upon ethnicity, s/he would more than likely be asked his/her age. Since the typical amount of expenditures for Hispanics (in all but one age cohort) is higher than the typical amount of expenditures for White non-Hispanics in the respective age cohort, the discrimination claim would be refuted\"."
   ]
  },
  {
   "cell_type": "markdown",
   "metadata": {},
   "source": [
    "This case study shows **Simpson's Paradox**. \n",
    "You may ask: \"Why is the overall average for all consumers significantly different indicating ethnic discrimination of Hispanics, yet in all but one age cohort (18-21) the average of expenditures for Hispanic consumers are greater than those of the White non-Hispanic population?\" Look at the table below."
   ]
  },
  {
   "cell_type": "code",
   "execution_count": 40,
   "metadata": {},
   "outputs": [
    {
     "data": {
      "text/html": [
       "<div>\n",
       "<style scoped>\n",
       "    .dataframe tbody tr th:only-of-type {\n",
       "        vertical-align: middle;\n",
       "    }\n",
       "\n",
       "    .dataframe tbody tr th {\n",
       "        vertical-align: top;\n",
       "    }\n",
       "\n",
       "    .dataframe thead th {\n",
       "        text-align: right;\n",
       "    }\n",
       "</style>\n",
       "<table border=\"1\" class=\"dataframe\">\n",
       "  <thead>\n",
       "    <tr style=\"text-align: right;\">\n",
       "      <th>Ethnicity</th>\n",
       "      <th>Hispanic</th>\n",
       "      <th>White not Hispanic</th>\n",
       "    </tr>\n",
       "    <tr>\n",
       "      <th>cat_AgeCohort</th>\n",
       "      <th></th>\n",
       "      <th></th>\n",
       "    </tr>\n",
       "  </thead>\n",
       "  <tbody>\n",
       "    <tr>\n",
       "      <th>0-5</th>\n",
       "      <td>44</td>\n",
       "      <td>20</td>\n",
       "    </tr>\n",
       "    <tr>\n",
       "      <th>6-12</th>\n",
       "      <td>91</td>\n",
       "      <td>46</td>\n",
       "    </tr>\n",
       "    <tr>\n",
       "      <th>13-17</th>\n",
       "      <td>103</td>\n",
       "      <td>67</td>\n",
       "    </tr>\n",
       "    <tr>\n",
       "      <th>18-21</th>\n",
       "      <td>78</td>\n",
       "      <td>69</td>\n",
       "    </tr>\n",
       "    <tr>\n",
       "      <th>22-50</th>\n",
       "      <td>43</td>\n",
       "      <td>133</td>\n",
       "    </tr>\n",
       "    <tr>\n",
       "      <th>51 +</th>\n",
       "      <td>17</td>\n",
       "      <td>66</td>\n",
       "    </tr>\n",
       "  </tbody>\n",
       "</table>\n",
       "</div>"
      ],
      "text/plain": [
       "Ethnicity      Hispanic  White not Hispanic\n",
       "cat_AgeCohort                              \n",
       " 0-5                 44                  20\n",
       "6-12                 91                  46\n",
       "13-17               103                  67\n",
       "18-21                78                  69\n",
       "22-50                43                 133\n",
       " 51 +                17                  66"
      ]
     },
     "execution_count": 40,
     "metadata": {},
     "output_type": "execute_result"
    }
   ],
   "source": [
    "pd.crosstab([Hispanic.cat_AgeCohort],Hispanic.Ethnicity)"
   ]
  },
  {
   "cell_type": "markdown",
   "metadata": {},
   "source": [
    "**Results**\n",
    "\n",
    "\"There are more Hispanics in the youngest four age cohorts, while the White non-Hispanics have more consumers in the oldest two age cohorts. The two populations are close in overall counts (376 vs. 401).  On top of this, consumers expenditures increase as they age to see the paradox.\n",
    "\n",
    "Expenditure average for Hispanic consumers are higher in all but one of the age cohorts, but the trend reverses when the groups are combined resulting in a lower expenditure average for all Hispanic consumers when compared to all White non-Hispanics.\"\n",
    "\n",
    "\"The overall Hispanic consumer population is a relatively younger when compared to the White non-Hispanic consumer population. Since the expenditures for younger consumers is lower, the overall average of expenditures for Hispanics\n",
    "(vs White non-Hispanics) is less.\""
   ]
  },
  {
   "cell_type": "code",
   "execution_count": 41,
   "metadata": {},
   "outputs": [
    {
     "data": {
      "text/html": [
       "<div>\n",
       "<style scoped>\n",
       "    .dataframe tbody tr th:only-of-type {\n",
       "        vertical-align: middle;\n",
       "    }\n",
       "\n",
       "    .dataframe tbody tr th {\n",
       "        vertical-align: top;\n",
       "    }\n",
       "\n",
       "    .dataframe thead th {\n",
       "        text-align: right;\n",
       "    }\n",
       "</style>\n",
       "<table border=\"1\" class=\"dataframe\">\n",
       "  <thead>\n",
       "    <tr style=\"text-align: right;\">\n",
       "      <th>Ethnicity</th>\n",
       "      <th>Hispanic</th>\n",
       "      <th>White not Hispanic</th>\n",
       "    </tr>\n",
       "    <tr>\n",
       "      <th>cat_AgeCohort</th>\n",
       "      <th></th>\n",
       "      <th></th>\n",
       "    </tr>\n",
       "  </thead>\n",
       "  <tbody>\n",
       "    <tr>\n",
       "      <th>0-5</th>\n",
       "      <td>0.117021</td>\n",
       "      <td>0.049875</td>\n",
       "    </tr>\n",
       "    <tr>\n",
       "      <th>6-12</th>\n",
       "      <td>0.242021</td>\n",
       "      <td>0.114713</td>\n",
       "    </tr>\n",
       "    <tr>\n",
       "      <th>13-17</th>\n",
       "      <td>0.273936</td>\n",
       "      <td>0.167082</td>\n",
       "    </tr>\n",
       "    <tr>\n",
       "      <th>18-21</th>\n",
       "      <td>0.207447</td>\n",
       "      <td>0.172070</td>\n",
       "    </tr>\n",
       "    <tr>\n",
       "      <th>22-50</th>\n",
       "      <td>0.114362</td>\n",
       "      <td>0.331671</td>\n",
       "    </tr>\n",
       "    <tr>\n",
       "      <th>51 +</th>\n",
       "      <td>0.045213</td>\n",
       "      <td>0.164589</td>\n",
       "    </tr>\n",
       "  </tbody>\n",
       "</table>\n",
       "</div>"
      ],
      "text/plain": [
       "Ethnicity      Hispanic  White not Hispanic\n",
       "cat_AgeCohort                              \n",
       " 0-5           0.117021            0.049875\n",
       "6-12           0.242021            0.114713\n",
       "13-17          0.273936            0.167082\n",
       "18-21          0.207447            0.172070\n",
       "22-50          0.114362            0.331671\n",
       " 51 +          0.045213            0.164589"
      ]
     },
     "execution_count": 41,
     "metadata": {},
     "output_type": "execute_result"
    }
   ],
   "source": [
    "pd.crosstab(Hispanic.cat_AgeCohort,Hispanic.Ethnicity, \n",
    "            normalize='columns')\n",
    "\n",
    "# values=Hispanic.Ethnicity,aggfunc=sum,"
   ]
  },
  {
   "cell_type": "markdown",
   "metadata": {},
   "source": [
    "# 6 Conclusions\n",
    "## Explanation\n",
    "\n",
    "\"This exercise is based on a real-life case in California. The situation involved an alleged case of discrimination privileging White non-Hispanics over Hispanics in the allocation of funds to over 250,000 developmentally-disabled California residents. \n",
    "\n",
    "A number of years ago, an allegation of discrimination was made and supported by a univariate analysis that examined average annual expenditures on consumers by ethnicity. The analysis revealed that the average annual expenditures on Hispanic consumers was approximately one-third (⅓) of the average expenditures on White non-Hispanic consumers. (...) A bivariate analysis examining ethnicity and age (divided into six age cohorts) revealed that ethnic discrimination did not exist. Moreover, in all but one of the age cohorts, the trend reversed where the average annual expenditures on White non-Hispanic consumers were less than the expenditures on Hispanic consumers.\"(Taylor, Mickel 2014)\n",
    "\n",
    "When running the simple table with aggregated data, the discrimination in this case appared evident. After running a few more detailed tables, it appears to be no evidence of discrimination based on this sample and the variables collected.\n",
    "\n",
    "## Takeaways\n",
    "The example above concerns a crucial topic of discrimination. \n",
    "As you can see, data and statistics alone won't give us the anwser. First results might give us a confusing result. Critical thinking is essential when working with data, in order to account for reasons not evident at the first sight. The authors remind us the following: 1) \"outcome of important decisions (such as discrimination claims) are often heavily influenced by statistics and how an incomplete analysis may lead to poor decision making\"\n",
    "2) \"importance of identifying and analyzing all sources of specific variation (i.e., potential influential factors) in statistical analyses\". This is something we already discussed in previous weeks, but it is never enough to stress it out\""
   ]
  },
  {
   "cell_type": "markdown",
   "metadata": {},
   "source": [
    "### *Additional Links\n",
    "Some links regarding categorical data in Python for those interested:\n",
    "\n",
    "\n",
    "https://pandas.pydata.org/pandas-docs/stable/user_guide/categorical.html#description\n",
    "\n",
    "https://pandas.pydata.org/pandas-docs/version/0.23.1/generated/pandas.DataFrame.plot.bar.html\n",
    "\n",
    "https://seaborn.pydata.org/tutorial/categorical.html\n",
    "\n",
    "https://seaborn.pydata.org/generated/seaborn.countplot.html"
   ]
  }
 ],
 "metadata": {
  "kernelspec": {
   "display_name": "Python 3",
   "language": "python",
   "name": "python3"
  },
  "language_info": {
   "codemirror_mode": {
    "name": "ipython",
    "version": 3
   },
   "file_extension": ".py",
   "mimetype": "text/x-python",
   "name": "python",
   "nbconvert_exporter": "python",
   "pygments_lexer": "ipython3",
   "version": "3.8.3"
  }
 },
 "nbformat": 4,
 "nbformat_minor": 4
}
